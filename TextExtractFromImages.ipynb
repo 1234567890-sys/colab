{
  "nbformat": 4,
  "nbformat_minor": 0,
  "metadata": {
    "colab": {
      "provenance": [],
      "authorship_tag": "ABX9TyMUEC3JGPZQ61frCy5cCEdn",
      "include_colab_link": true
    },
    "kernelspec": {
      "name": "python3",
      "display_name": "Python 3"
    },
    "language_info": {
      "name": "python"
    }
  },
  "cells": [
    {
      "cell_type": "markdown",
      "metadata": {
        "id": "view-in-github",
        "colab_type": "text"
      },
      "source": [
        "<a href=\"https://colab.research.google.com/github/1234567890-sys/colab/blob/main/TextExtractFromImages.ipynb\" target=\"_parent\"><img src=\"https://colab.research.google.com/assets/colab-badge.svg\" alt=\"Open In Colab\"/></a>"
      ]
    },
    {
      "cell_type": "code",
      "source": [
        "import os\n",
        "import google.generativeai as genai\n",
        "from google.generativeai.types import ContentType\n",
        "from PIL import Image\n",
        "from IPython.display import Markdown\n",
        "import time\n",
        "import cv2"
      ],
      "metadata": {
        "id": "c52h_KF2X9iD"
      },
      "execution_count": null,
      "outputs": []
    },
    {
      "cell_type": "code",
      "source": [
        "#import os\n",
        "# Assuming 'userdata' should hold a dictionary, you need to define it first\n",
        "#userdata = {'GOOGLE_API_KEY': 'YOUR_ACTUAL_API_KEY'}\n",
        "# Now you can access the API key using the get method:\n",
        "#os.environ[\"GOOGLE_API_KEY\"] = userdata.get('GOOGLE_API_KEY')\n"
      ],
      "metadata": {
        "id": "0N-PGc99ZiyO"
      },
      "execution_count": null,
      "outputs": []
    },
    {
      "cell_type": "code",
      "source": [
        "from google.colab import userdata\n",
        "genai.configure(api_key=userdata.get('GOOGLE_API_KEY'))"
      ],
      "metadata": {
        "id": "SGIIFymIbBr_"
      },
      "execution_count": null,
      "outputs": []
    },
    {
      "cell_type": "code",
      "source": [
        "#model = genai.GenerativeModel(\"gemini-1.5-flash\")\n",
        "#response = model.generate_content(\"tell me a joke\")\n",
        "#print(response.text)"
      ],
      "metadata": {
        "colab": {
          "base_uri": "https://localhost:8080/",
          "height": 86
        },
        "id": "VHSOo5dracZH",
        "outputId": "f073d9de-93ac-49b9-d242-d43d81ba0f14"
      },
      "execution_count": null,
      "outputs": [
        {
          "output_type": "stream",
          "name": "stdout",
          "text": [
            "Why don't scientists trust atoms? \n",
            "\n",
            "Because they make up everything!\n",
            "\n"
          ]
        }
      ]
    },
    {
      "cell_type": "code",
      "source": [
        "model = genai.GenerativeModel(\"gemini-1.5-pro-latest\")\n",
        "#response = model.generate_content(\"Please provide a list of the most influential people in the world.\")\n",
        "#print(response.text)"
      ],
      "metadata": {
        "id": "zKQ_jN2fbp9s"
      },
      "execution_count": null,
      "outputs": []
    },
    {
      "cell_type": "code",
      "source": [
        "# to see how many models are available\n",
        "#for m in genai.list_models():\n",
        "###    print(m.name)"
      ],
      "metadata": {
        "id": "bo29FPJScs44"
      },
      "execution_count": null,
      "outputs": []
    },
    {
      "cell_type": "markdown",
      "source": [],
      "metadata": {
        "id": "kYiT6QmTbadq"
      }
    },
    {
      "cell_type": "code",
      "execution_count": null,
      "metadata": {
        "colab": {
          "base_uri": "https://localhost:8080/",
          "height": 313
        },
        "id": "w3T4j_Z_XXWK",
        "outputId": "7cc5c80e-973e-490c-9b88-d14fcbe052a7"
      },
      "outputs": [
        {
          "output_type": "stream",
          "name": "stdout",
          "text": [
            "Key points about using ChatGPT:\n",
            "\n",
            "* **Virtual Assistant:** Set reminders, schedule appointments, manage to-do lists, and answer general queries.\n",
            "* **Personal Concierge:** Get personalized recommendations for restaurants, hotels, movies, books, or activities.\n",
            "* **Language Practice:**  Practice and improve foreign language speaking and writing skills.\n",
            "* **Information Retrieval:** Ask questions, seek explanations, and get quick information on a wide range of topics.\n",
            "* **Goal Tracking and Motivation:** Track progress towards goals, receive motivational prompts, and get suggestions to stay focused.\n",
            "* **Curiosity and Exploration:** Explore diverse fields, delve into specific interests, and discover new facts and information.\n",
            "\n"
          ]
        },
        {
          "output_type": "execute_result",
          "data": {
            "text/plain": [
              "<IPython.core.display.Markdown object>"
            ],
            "text/markdown": "Key points about using ChatGPT:\n\n* **Virtual Assistant:** Set reminders, schedule appointments, manage to-do lists, and answer general queries.\n* **Personal Concierge:** Get personalized recommendations for restaurants, hotels, movies, books, or activities.\n* **Language Practice:**  Practice and improve foreign language speaking and writing skills.\n* **Information Retrieval:** Ask questions, seek explanations, and get quick information on a wide range of topics.\n* **Goal Tracking and Motivation:** Track progress towards goals, receive motivational prompts, and get suggestions to stay focused.\n* **Curiosity and Exploration:** Explore diverse fields, delve into specific interests, and discover new facts and information.\n"
          },
          "metadata": {},
          "execution_count": 29
        }
      ],
      "source": [
        "#text_prompt = \"List all the books and help me organize them into three categories.\"\n",
        "#text_prompt = \"tell me about this picture.\"\n",
        "text_prompt = \"highlight key points from this picture.\"\n",
        "\n",
        "#image = Image.open('images/1.jpeg')\n",
        "#image = Image.open('images/2.jpeg')\n",
        "#image = Image.open('images/3.jpeg')\n",
        "image = Image.open('images/4.jpeg')\n",
        "#image = Image.open('images/bookshelf.jpeg')\n",
        "\n",
        "prompt = [text_prompt, image]\n",
        "response = model.generate_content(prompt)\n",
        "print(response.text)\n",
        "Markdown(response.text)"
      ]
    }
  ]
}